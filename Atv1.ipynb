{
 "cells": [
  {
   "cell_type": "markdown",
   "metadata": {},
   "source": [
    "# Felipe Cordeiro de Sousa"
   ]
  },
  {
   "cell_type": "markdown",
   "metadata": {},
   "source": [
    "Questão 1"
   ]
  },
  {
   "cell_type": "code",
   "execution_count": 1,
   "metadata": {},
   "outputs": [
    {
     "name": "stdout",
     "output_type": "stream",
     "text": [
      "[2, 3]\n"
     ]
    }
   ],
   "source": [
    "def num_primo(list1 : list, list2: list):\n",
    "\n",
    "    num_itens = int(input('Quantos números deve conter na lista?\\n')) \n",
    "    while len(list1) < num_itens:\n",
    "        count = 0\n",
    "        value = int(input('Insira o número:\\n')) \n",
    "        list1.append(value)\n",
    "        for c in range(1, value+1): \n",
    "            if (value%c == 0):\n",
    "                count+=1\n",
    "            if(count == 2):\n",
    "                if(value in list2):\n",
    "                    pass\n",
    "                else:\n",
    "                    list2.append(value)\n",
    "    return print(list2)\n",
    "\n",
    "list1=[]\n",
    "list2=[]\n",
    "\n",
    "num_primo(list1, list2)"
   ]
  },
  {
   "cell_type": "markdown",
   "metadata": {},
   "source": [
    "Questão 2"
   ]
  },
  {
   "cell_type": "code",
   "execution_count": 2,
   "metadata": {},
   "outputs": [
    {
     "name": "stdout",
     "output_type": "stream",
     "text": [
      "[2]\n"
     ]
    }
   ],
   "source": [
    "def listresult(list1 : list, list2 : list, list3 : list):\n",
    "\n",
    "    numlist1 = int(input('Números de elementos da lista 1\\n'))\n",
    "    for i in range(1, numlist1+1):\n",
    "        number = int(input('digite o número\\n'))\n",
    "        list1.append(number)\n",
    "    numlist2 = int(input('Números de elementos da lista 2\\n'))\n",
    "    for i in range(1,numlist2+1):\n",
    "        number2 = int(input('digite o número\\n'))\n",
    "        list2.append(number2)\n",
    "    \n",
    "    for y in list1:\n",
    "        if y not in list2:\n",
    "            list3.append(y)\n",
    "    \n",
    "    return print(list3)\n",
    "\n",
    "list1=[]\n",
    "list2=[]\n",
    "list3=[]\n",
    "\n",
    "listresult(list1, list2, list3)"
   ]
  },
  {
   "cell_type": "markdown",
   "metadata": {},
   "source": [
    "Questão 3"
   ]
  },
  {
   "cell_type": "code",
   "execution_count": 17,
   "metadata": {},
   "outputs": [
    {
     "name": "stdout",
     "output_type": "stream",
     "text": [
      "5\n"
     ]
    }
   ],
   "source": [
    "def second_max_value(list1: list):\n",
    "    #Set não aceita elementos repetidos na lista\n",
    "    return print(sorted(set(list1), reverse=True)[1])\n",
    "\n",
    "list1 = [1,2,3,5,4,8]\n",
    "second_max_value(list1)"
   ]
  },
  {
   "cell_type": "markdown",
   "metadata": {},
   "source": [
    "Questão 4"
   ]
  },
  {
   "cell_type": "code",
   "execution_count": 16,
   "metadata": {},
   "outputs": [
    {
     "data": {
      "text/plain": [
       "[('carlos', 38), ('felipe', 19), ('rene', 28)]"
      ]
     },
     "execution_count": 16,
     "metadata": {},
     "output_type": "execute_result"
    }
   ],
   "source": [
    "def foundnameage(list1:list):\n",
    "    return sorted(list1)\n",
    "\n",
    "list1 = [('felipe',19),('rene',28),('carlos',38)]\n",
    "\n",
    "foundnameage(list1)"
   ]
  },
  {
   "cell_type": "markdown",
   "metadata": {},
   "source": [
    "Questão 5"
   ]
  },
  {
   "cell_type": "code",
   "execution_count": 14,
   "metadata": {},
   "outputs": [
    {
     "data": {
      "text/plain": [
       "(10, 1)"
      ]
     },
     "execution_count": 14,
     "metadata": {},
     "output_type": "execute_result"
    }
   ],
   "source": [
    "def foundmaxmin(list1:list):\n",
    "    return max(list1), min(list1)\n",
    "\n",
    "list1 = [1,2,3,4,5,6,7,8,9,10]\n",
    "foundmaxmin(list1)"
   ]
  },
  {
   "cell_type": "markdown",
   "metadata": {},
   "source": [
    "Questão 6"
   ]
  },
  {
   "cell_type": "code",
   "execution_count": 12,
   "metadata": {},
   "outputs": [
    {
     "data": {
      "text/html": [
       "<div>\n",
       "<style scoped>\n",
       "    .dataframe tbody tr th:only-of-type {\n",
       "        vertical-align: middle;\n",
       "    }\n",
       "\n",
       "    .dataframe tbody tr th {\n",
       "        vertical-align: top;\n",
       "    }\n",
       "\n",
       "    .dataframe thead th {\n",
       "        text-align: right;\n",
       "    }\n",
       "</style>\n",
       "<table border=\"1\" class=\"dataframe\">\n",
       "  <thead>\n",
       "    <tr style=\"text-align: right;\">\n",
       "      <th></th>\n",
       "      <th>nome</th>\n",
       "      <th>idade</th>\n",
       "      <th>cidade</th>\n",
       "    </tr>\n",
       "  </thead>\n",
       "  <tbody>\n",
       "    <tr>\n",
       "      <th>0</th>\n",
       "      <td>felipe</td>\n",
       "      <td>16.0</td>\n",
       "      <td>itapaje</td>\n",
       "    </tr>\n",
       "    <tr>\n",
       "      <th>1</th>\n",
       "      <td>rene</td>\n",
       "      <td>19.0</td>\n",
       "      <td>sobral</td>\n",
       "    </tr>\n",
       "    <tr>\n",
       "      <th>2</th>\n",
       "      <td>angelica</td>\n",
       "      <td>23.0</td>\n",
       "      <td>fortaleza</td>\n",
       "    </tr>\n",
       "    <tr>\n",
       "      <th>3</th>\n",
       "      <td>carlos</td>\n",
       "      <td>10.0</td>\n",
       "      <td>itapipoca</td>\n",
       "    </tr>\n",
       "    <tr>\n",
       "      <th>4</th>\n",
       "      <td>NaN</td>\n",
       "      <td>NaN</td>\n",
       "      <td>NaN</td>\n",
       "    </tr>\n",
       "  </tbody>\n",
       "</table>\n",
       "</div>"
      ],
      "text/plain": [
       "       nome  idade     cidade\n",
       "0    felipe   16.0    itapaje\n",
       "1      rene   19.0     sobral\n",
       "2  angelica   23.0  fortaleza\n",
       "3    carlos   10.0  itapipoca\n",
       "4       NaN    NaN        NaN"
      ]
     },
     "execution_count": 12,
     "metadata": {},
     "output_type": "execute_result"
    }
   ],
   "source": [
    "import pandas as pd\n",
    "\n",
    "def firstlines(path_csv:str):\n",
    "    csv = pd.read_csv(path_csv,sep=';')\n",
    "    df = pd.DataFrame(csv)\n",
    "\n",
    "    return df.head()\n",
    "\n",
    "path = 'test.csv'\n",
    "firstlines(path)"
   ]
  },
  {
   "cell_type": "markdown",
   "metadata": {},
   "source": [
    "Questão 7"
   ]
  },
  {
   "cell_type": "code",
   "execution_count": 3,
   "metadata": {},
   "outputs": [
    {
     "name": "stdout",
     "output_type": "stream",
     "text": [
      "0     True\n",
      "1    False\n",
      "2     True\n",
      "3     True\n",
      "Name: idades, dtype: bool\n"
     ]
    }
   ],
   "source": [
    "import pandas as pd\n",
    "\n",
    "def filtercolumm(dados:dict, col:str):\n",
    "    df = pd.DataFrame(dados)\n",
    "\n",
    "    # condição de printar as idades >= 20 \n",
    "    return print(df[col] >= 20)\n",
    "\n",
    "# exemplo    \n",
    "data = {'nomes': ['felipe_cordeiro', 'larissa', 'rene', 'ermeson'], 'idades': [20,19,36,23]}\n",
    "filtercolumm(data,'idades')"
   ]
  },
  {
   "cell_type": "markdown",
   "metadata": {},
   "source": [
    "Questão 8"
   ]
  },
  {
   "cell_type": "code",
   "execution_count": 4,
   "metadata": {},
   "outputs": [
    {
     "name": "stdout",
     "output_type": "stream",
     "text": [
      "felipe     2\n",
      "larissa    4\n",
      "dtype: int64\n",
      "   felipe  larissa\n",
      "0     0.0      0.0\n",
      "1     1.0      1.0\n",
      "2     3.0      3.0\n",
      "3     5.0      0.0\n",
      "4     7.0      0.0\n",
      "5     9.0     20.0\n",
      "6     0.0      0.0\n"
     ]
    }
   ],
   "source": [
    "import pandas as pd\n",
    "import numpy as np\n",
    "\n",
    "def hasnan(dados:dict):\n",
    "    df = pd.DataFrame(dados)\n",
    "    #Verifica a quantidade de NaN no dataset\n",
    "    print(df.isna().sum())\n",
    "    #Substitui NaN por zero\n",
    "    df = df.fillna(0)\n",
    "    return print(df)\n",
    "\n",
    "data={'felipe':[np.nan,1,3,5,7,9,np.nan],\n",
    "      'larissa':[np.nan,1,3,np.nan,np.nan,20,np.nan]}\n",
    "\n",
    "hasnan(data)"
   ]
  },
  {
   "cell_type": "markdown",
   "metadata": {},
   "source": [
    "Questão 9"
   ]
  },
  {
   "cell_type": "code",
   "execution_count": 9,
   "metadata": {},
   "outputs": [
    {
     "data": {
      "text/plain": [
       "Text(0.5, 0.98, 'axs.subplots()')"
      ]
     },
     "execution_count": 9,
     "metadata": {},
     "output_type": "execute_result"
    },
    {
     "data": {
      "image/png": "[encoded data removed]",
      "text/plain": [
       "<Figure size 550x350 with 4 Axes>"
      ]
     },
     "metadata": {},
     "output_type": "display_data"
    }
   ],
   "source": [
    "#9. Complete o código:\n",
    "import matplotlib.pyplot as plt\n",
    "import numpy as np\n",
    "\n",
    "\n",
    "fig, axs = plt.subplots(ncols=2, nrows=2, figsize=(5.5, 3.5), layout=\"constrained\")\n",
    "\n",
    "\n",
    "for row in range(2):\n",
    "    for col in range(2):\n",
    "        axs[row, col].annotate(f'axs[{row}, {col}]', (0.5, 0.5),\n",
    "                               transform=axs[row, col].transAxes,\n",
    "                               ha='center', va='center', fontsize=18,\n",
    "                               color='darkgrey')\n",
    "\n",
    "fig.suptitle('axs.subplots()')"
   ]
  },
  {
   "cell_type": "markdown",
   "metadata": {},
   "source": [
    "Questão 10"
   ]
  },
  {
   "cell_type": "code",
   "execution_count": 5,
   "metadata": {},
   "outputs": [
    {
     "data": {
      "text/plain": [
       "[<matplotlib.lines.Line2D at 0x2c648927a90>]"
      ]
     },
     "execution_count": 5,
     "metadata": {},
     "output_type": "execute_result"
    },
    {
     "data": {
      "image/png": "[encoded data removed]",
      "text/plain": [
       "<Figure size 640x480 with 1 Axes>"
      ]
     },
     "metadata": {},
     "output_type": "display_data"
    }
   ],
   "source": [
    "#10. Complete o código:\n",
    "import numpy as np\n",
    "import matplotlib as mpl\n",
    "import matplotlib.pyplot as plt\n",
    "\n",
    "\n",
    "x = np.linspace(-2 * np.pi, 2 * np.pi, 100)\n",
    "y = np.sin(x)\n",
    "\n",
    "\n",
    "fig, ax = plt.subplots()\n",
    "\n",
    "ax.plot(x, y)"
   ]
  }
 ],
 "metadata": {
  "kernelspec": {
   "display_name": "Python 3",
   "language": "python",
   "name": "python3"
  },
  "language_info": {
   "codemirror_mode": {
    "name": "ipython",
    "version": 3
   },
   "file_extension": ".py",
   "mimetype": "text/x-python",
   "name": "python",
   "nbconvert_exporter": "python",
   "pygments_lexer": "ipython3",
   "version": "3.10.0"
  }
 },
 "nbformat": 4,
 "nbformat_minor": 2
}
